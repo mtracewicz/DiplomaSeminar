{
 "cells": [
  {
   "cell_type": "markdown",
   "metadata": {},
   "source": [
    "# Image spliiting and merging\n",
    "## Imports"
   ]
  },
  {
   "cell_type": "code",
   "execution_count": null,
   "metadata": {},
   "outputs": [],
   "source": [
    "import os\n",
    "from PIL import Image\n",
    "from matplotlib import pyplot as plt"
   ]
  },
  {
   "cell_type": "markdown",
   "metadata": {},
   "source": [
    "## Constants"
   ]
  },
  {
   "cell_type": "code",
   "execution_count": null,
   "metadata": {},
   "outputs": [],
   "source": [
    "image_number = 0\n",
    "src_dir = '_in'\n",
    "tmp_dir = '_tmp'\n",
    "out_dir = '_out'"
   ]
  },
  {
   "cell_type": "markdown",
   "metadata": {},
   "source": [
    "## Diplaying before and after"
   ]
  },
  {
   "cell_type": "code",
   "execution_count": null,
   "metadata": {},
   "outputs": [],
   "source": [
    "fig = plt.figure(figsize=(150,200))\n",
    "\n",
    "# Before\n",
    "img = os.listdir(src_dir)\n",
    "img.sort()\n",
    "img = Image.open(f'{src_dir}/{img[image_number]}')\n",
    "p1 = fig.add_subplot(1,2,1)\n",
    "p1.imshow(img)\n",
    "\n",
    "# After\n",
    "img = os.listdir(out_dir)\n",
    "img.sort()\n",
    "img = Image.open(f'{out_dir}/{img[image_number]}')\n",
    "p2 = fig.add_subplot(1,2,2)\n",
    "p2.imshow(img)"
   ]
  },
  {
   "cell_type": "markdown",
   "metadata": {},
   "source": [
    "## Displaying split image"
   ]
  },
  {
   "cell_type": "code",
   "execution_count": null,
   "metadata": {
    "scrolled": true
   },
   "outputs": [],
   "source": [
    "img = os.listdir(tmp_dir)\n",
    "img.sort()\n",
    "img = img[image_number*300:(image_number+1)*300]\n",
    "\n",
    "fig = plt.figure(figsize=(30,30))\n",
    "for i,val in enumerate(img):\n",
    "    img = Image.open(f'{tmp_dir}/{val}')\n",
    "    splt = fig.add_subplot(15, 20, 1+i)\n",
    "    splt.imshow(img,aspect='equal')"
   ]
  }
 ],
 "metadata": {
  "kernelspec": {
   "display_name": "Python 3",
   "language": "python",
   "name": "python3"
  },
  "language_info": {
   "codemirror_mode": {
    "name": "ipython",
    "version": 3
   },
   "file_extension": ".py",
   "mimetype": "text/x-python",
   "name": "python",
   "nbconvert_exporter": "python",
   "pygments_lexer": "ipython3",
   "version": "3.8.5"
  }
 },
 "nbformat": 4,
 "nbformat_minor": 4
}
