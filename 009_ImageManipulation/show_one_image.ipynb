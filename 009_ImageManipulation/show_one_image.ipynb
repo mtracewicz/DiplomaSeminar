{
 "cells": [
  {
   "cell_type": "code",
   "execution_count": null,
   "metadata": {},
   "outputs": [],
   "source": [
    "import os\n",
    "from PIL import Image\n",
    "from matplotlib import pyplot as plt"
   ]
  },
  {
   "cell_type": "code",
   "execution_count": null,
   "metadata": {},
   "outputs": [],
   "source": [
    "image_number = 1"
   ]
  },
  {
   "cell_type": "code",
   "execution_count": null,
   "metadata": {},
   "outputs": [],
   "source": [
    "img = os.listdir('Img')\n",
    "img.sort()\n",
    "img = Image.open(f'Img/{img[image_number]}')\n",
    "plt.imshow(img)"
   ]
  },
  {
   "cell_type": "code",
   "execution_count": null,
   "metadata": {},
   "outputs": [],
   "source": [
    "img = os.listdir('split')\n",
    "img.sort()\n",
    "img = img[image_number*300:(image_number+1)*300]\n",
    "\n",
    "fig = plt.figure(figsize=(90,90))\n",
    "for i,val in enumerate(img):\n",
    "    img = Image.open(f'split/{val}')\n",
    "    splt = fig.add_subplot(15, 20, 1+i)\n",
    "    splt.imshow(img,aspect='equal')"
   ]
  }
 ],
 "metadata": {
  "kernelspec": {
   "display_name": "Python 3",
   "language": "python",
   "name": "python3"
  },
  "language_info": {
   "codemirror_mode": {
    "name": "ipython",
    "version": 3
   },
   "file_extension": ".py",
   "mimetype": "text/x-python",
   "name": "python",
   "nbconvert_exporter": "python",
   "pygments_lexer": "ipython3",
   "version": "3.8.5"
  }
 },
 "nbformat": 4,
 "nbformat_minor": 4
}
